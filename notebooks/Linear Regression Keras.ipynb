{
 "cells": [
  {
   "cell_type": "code",
   "execution_count": 299,
   "id": "2d583d4b-9e23-4fbf-97de-7383e2bbfe6a",
   "metadata": {},
   "outputs": [],
   "source": [
    "import tensorflow as tf\n",
    "import matplotlib.pyplot as plt\n",
    "from sklearn.datasets import fetch_california_housing\n",
    "from sklearn.preprocessing import StandardScaler\n",
    "from tensorflow.keras.models import Sequential\n",
    "from tensorflow.keras.layers import Dense\n",
    "from tensorflow.keras.optimizers import SGD\n",
    "from tensorflow.keras import layers\n",
    "import mlflow"
   ]
  },
  {
   "cell_type": "code",
   "execution_count": 236,
   "id": "bd23b2fa-d364-464a-a8f3-a2a91231cdfc",
   "metadata": {},
   "outputs": [
    {
     "name": "stdout",
     "output_type": "stream",
     "text": [
      "(100, 1)\n"
     ]
    }
   ],
   "source": [
    "# Load California Housing dataset from sklearn\n",
    "data = fetch_california_housing()\n",
    "\n",
    "# Use just one feature ('MedInc' - Median Income) for simplicity\n",
    "X = data.data[0:100, [0]]   # Feature matrix (2D)\n",
    "y = data.target[0:100]         # Target values (house prices)\n",
    "\n",
    "# Standardize the input feature for better model convergence\n",
    "scaler = StandardScaler()\n",
    "X_scaled = scaler.fit_transform(X)\n",
    "\n",
    "print(X_scaled.shape)"
   ]
  },
  {
   "cell_type": "code",
   "execution_count": 149,
   "id": "387ee832-30c0-4353-978b-27fba191e88f",
   "metadata": {},
   "outputs": [],
   "source": [
    "# class SimpleLinearModel(tf.keras.Model):\n",
    "#     def __init__(self):\n",
    "#         super(SimpleLinearModel, self).__init__()\n",
    "#         self.dense = tf.keras.layers.Dense(units=1,\n",
    "#                                           kernel_initializer=tf.keras.initializers.Constant(0.0),  # Set weight initializer\n",
    "#                                            bias_initializer=tf.keras.initializers.Constant(0.0))   # Set bias initializer)\n",
    "\n",
    "#     def call(self, inputs):\n",
    "#         return self.dense(inputs)"
   ]
  },
  {
   "cell_type": "code",
   "execution_count": 279,
   "id": "e9aada62-21f9-48af-b32a-315dfd213223",
   "metadata": {},
   "outputs": [],
   "source": [
    "# class WeightsHistory(tf.keras.callbacks.Callback):\n",
    "#     def __init__(self):\n",
    "#         self.weights = []\n",
    "#         self.biases = []\n",
    "\n",
    "#     def on_epoch_end(self, epoch, logs=None):\n",
    "#         w, b = self.model.dense.get_weights()\n",
    "#         self.weights.append(w[0][0])  # assuming single input feature\n",
    "#         self.biases.append(b[0])\n",
    "#         print(f\"Epoch {epoch+1}: W={w[0][0]}, b={b[0]}\")\n",
    "\n",
    "\n",
    "class WeightsHistory(tf.keras.callbacks.Callback):\n",
    "    def __init__(self):\n",
    "        super().__init__()\n",
    "        self.weights = []\n",
    "        self.biases = []\n",
    "\n",
    "    def on_epoch_end(self, epoch, logs=None):\n",
    "        dense_layer = self.model.layers[0]  # Assuming your model has only one Dense layer\n",
    "        w, b = dense_layer.get_weights()\n",
    "        self.weights.append(w[0][0])  # assuming single input feature\n",
    "        self.biases.append(b[0])\n",
    "        print(f\"Epoch {epoch+1}: W={w[0][0]}, b={b[0]}\")\n"
   ]
  },
  {
   "cell_type": "code",
   "execution_count": 315,
   "id": "8294d6b1-05da-470f-8fbc-7738c243afa9",
   "metadata": {},
   "outputs": [
    {
     "name": "stdout",
     "output_type": "stream",
     "text": [
      "Epoch 1/10\n",
      "\u001b[1m1/1\u001b[0m \u001b[32m━━━━━━━━━━━━━━━━━━━━\u001b[0m\u001b[37m\u001b[0m \u001b[1m0s\u001b[0m 490ms/step - accuracy: 0.0000e+00 - loss: 3.3292Epoch 1: W=1.2695602178573608, b=0.030350400134921074\n",
      "\u001b[1m1/1\u001b[0m \u001b[32m━━━━━━━━━━━━━━━━━━━━\u001b[0m\u001b[37m\u001b[0m \u001b[1m1s\u001b[0m 519ms/step - accuracy: 0.0000e+00 - loss: 3.3292\n",
      "Epoch 2/10\n",
      "\u001b[1m1/1\u001b[0m \u001b[32m━━━━━━━━━━━━━━━━━━━━\u001b[0m\u001b[37m\u001b[0m \u001b[1m0s\u001b[0m 43ms/step - accuracy: 0.0000e+00 - loss: 3.2129Epoch 2: W=1.2539361715316772, b=0.06009379401803017\n",
      "\u001b[1m1/1\u001b[0m \u001b[32m━━━━━━━━━━━━━━━━━━━━\u001b[0m\u001b[37m\u001b[0m \u001b[1m0s\u001b[0m 86ms/step - accuracy: 0.0000e+00 - loss: 3.2129\n",
      "Epoch 3/10\n",
      "\u001b[1m1/1\u001b[0m \u001b[32m━━━━━━━━━━━━━━━━━━━━\u001b[0m\u001b[37m\u001b[0m \u001b[1m0s\u001b[0m 31ms/step - accuracy: 0.0000e+00 - loss: 3.1011Epoch 3: W=1.2386246919631958, b=0.08924231678247452\n",
      "\u001b[1m1/1\u001b[0m \u001b[32m━━━━━━━━━━━━━━━━━━━━\u001b[0m\u001b[37m\u001b[0m \u001b[1m0s\u001b[0m 63ms/step - accuracy: 0.0000e+00 - loss: 3.1011\n",
      "Epoch 4/10\n",
      "\u001b[1m1/1\u001b[0m \u001b[32m━━━━━━━━━━━━━━━━━━━━\u001b[0m\u001b[37m\u001b[0m \u001b[1m0s\u001b[0m 42ms/step - accuracy: 0.0000e+00 - loss: 2.9938Epoch 4: W=1.2236193418502808, b=0.11780787259340286\n",
      "\u001b[1m1/1\u001b[0m \u001b[32m━━━━━━━━━━━━━━━━━━━━\u001b[0m\u001b[37m\u001b[0m \u001b[1m0s\u001b[0m 73ms/step - accuracy: 0.0000e+00 - loss: 2.9938\n",
      "Epoch 5/10\n",
      "\u001b[1m1/1\u001b[0m \u001b[32m━━━━━━━━━━━━━━━━━━━━\u001b[0m\u001b[37m\u001b[0m \u001b[1m0s\u001b[0m 38ms/step - accuracy: 0.0000e+00 - loss: 2.8907Epoch 5: W=1.2089141607284546, b=0.1458021104335785\n",
      "\u001b[1m1/1\u001b[0m \u001b[32m━━━━━━━━━━━━━━━━━━━━\u001b[0m\u001b[37m\u001b[0m \u001b[1m0s\u001b[0m 70ms/step - accuracy: 0.0000e+00 - loss: 2.8907\n",
      "Epoch 6/10\n",
      "\u001b[1m1/1\u001b[0m \u001b[32m━━━━━━━━━━━━━━━━━━━━\u001b[0m\u001b[37m\u001b[0m \u001b[1m0s\u001b[0m 38ms/step - accuracy: 0.0000e+00 - loss: 2.7917Epoch 6: W=1.1945030689239502, b=0.17323647439479828\n",
      "\u001b[1m1/1\u001b[0m \u001b[32m━━━━━━━━━━━━━━━━━━━━\u001b[0m\u001b[37m\u001b[0m \u001b[1m0s\u001b[0m 62ms/step - accuracy: 0.0000e+00 - loss: 2.7917\n",
      "Epoch 7/10\n",
      "\u001b[1m1/1\u001b[0m \u001b[32m━━━━━━━━━━━━━━━━━━━━\u001b[0m\u001b[37m\u001b[0m \u001b[1m0s\u001b[0m 25ms/step - accuracy: 0.0000e+00 - loss: 2.6967Epoch 7: W=1.1803802251815796, b=0.2001221477985382\n",
      "\u001b[1m1/1\u001b[0m \u001b[32m━━━━━━━━━━━━━━━━━━━━\u001b[0m\u001b[37m\u001b[0m \u001b[1m0s\u001b[0m 49ms/step - accuracy: 0.0000e+00 - loss: 2.6967\n",
      "Epoch 8/10\n",
      "\u001b[1m1/1\u001b[0m \u001b[32m━━━━━━━━━━━━━━━━━━━━\u001b[0m\u001b[37m\u001b[0m \u001b[1m0s\u001b[0m 33ms/step - accuracy: 0.0000e+00 - loss: 2.6054Epoch 8: W=1.1665397882461548, b=0.22647011280059814\n",
      "\u001b[1m1/1\u001b[0m \u001b[32m━━━━━━━━━━━━━━━━━━━━\u001b[0m\u001b[37m\u001b[0m \u001b[1m0s\u001b[0m 53ms/step - accuracy: 0.0000e+00 - loss: 2.6054\n",
      "Epoch 9/10\n",
      "\u001b[1m1/1\u001b[0m \u001b[32m━━━━━━━━━━━━━━━━━━━━\u001b[0m\u001b[37m\u001b[0m \u001b[1m0s\u001b[0m 17ms/step - accuracy: 0.0000e+00 - loss: 2.5177Epoch 9: W=1.152976155281067, b=0.25229111313819885\n",
      "\u001b[1m1/1\u001b[0m \u001b[32m━━━━━━━━━━━━━━━━━━━━\u001b[0m\u001b[37m\u001b[0m \u001b[1m0s\u001b[0m 41ms/step - accuracy: 0.0000e+00 - loss: 2.5177\n",
      "Epoch 10/10\n",
      "\u001b[1m1/1\u001b[0m \u001b[32m━━━━━━━━━━━━━━━━━━━━\u001b[0m\u001b[37m\u001b[0m \u001b[1m0s\u001b[0m 17ms/step - accuracy: 0.0000e+00 - loss: 2.4334Epoch 10: W=1.1396838426589966, b=0.2775956988334656\n",
      "\u001b[1m1/1\u001b[0m \u001b[32m━━━━━━━━━━━━━━━━━━━━\u001b[0m\u001b[37m\u001b[0m \u001b[1m0s\u001b[0m 41ms/step - accuracy: 0.0000e+00 - loss: 2.4334\n"
     ]
    },
    {
     "data": {
      "text/plain": [
       "<keras.src.callbacks.history.History at 0x1415700e0>"
      ]
     },
     "execution_count": 315,
     "metadata": {},
     "output_type": "execute_result"
    }
   ],
   "source": [
    "# Instantiate the model\n",
    "model = tf.keras.Sequential([\n",
    "    layers.Dense(1,)\n",
    "])\n",
    "\n",
    "# Compile the model (specify loss and optimizer)\n",
    "# model.compile(optimizer='sgd', loss='mse')\n",
    "model.compile(optimizer=SGD(learning_rate=0.01),\n",
    "              loss='mse', metrics=['accuracy'])\n",
    "\n",
    "weights_tracker = WeightsHistory()\n",
    "\n",
    "# Fit the model on training data\n",
    "model.fit(X_scaled, y, callbacks=[weights_tracker], batch_size=len(X_scaled), epochs=10)\n",
    "\n",
    "    "
   ]
  },
  {
   "cell_type": "code",
   "execution_count": 313,
   "id": "b67082f2-a5f8-48e8-a165-243148747b18",
   "metadata": {},
   "outputs": [
    {
     "data": {
      "image/png": "[encoded data removed]",
      "text/plain": [
       "<Figure size 1000x600 with 1 Axes>"
      ]
     },
     "metadata": {},
     "output_type": "display_data"
    }
   ],
   "source": [
    "plt.figure(figsize=(10, 6))\n",
    "plt.plot(history.history['loss'], label='Training Loss')\n",
    "plt.title('Gradient Descent: Loss Curve')\n",
    "plt.xlabel('Epoch')\n",
    "plt.ylabel('Mean Squared Error (Loss)')\n",
    "plt.grid(True)\n",
    "plt.legend()\n",
    "plt.show()"
   ]
  },
  {
   "cell_type": "code",
   "execution_count": 293,
   "id": "e4c9ce74-4a0b-472a-827c-09d82e333a4d",
   "metadata": {},
   "outputs": [],
   "source": [
    "model.save('models/linear_regression_model.keras')  # saves in SavedModel format"
   ]
  },
  {
   "cell_type": "code",
   "execution_count": 295,
   "id": "0168335a-3daf-4e01-b981-5865f9bb6e3f",
   "metadata": {},
   "outputs": [],
   "source": [
    "loaded_model = tf.keras.models.load_model('models/linear_regression_model.keras')"
   ]
  },
  {
   "cell_type": "code",
   "execution_count": 329,
   "id": "0983a7ca-391f-471b-9cac-4c6d875b8164",
   "metadata": {},
   "outputs": [
    {
     "name": "stderr",
     "output_type": "stream",
     "text": [
      "2025/04/16 04:41:10 WARNING mlflow.tensorflow: You are saving a TensorFlow Core model or Keras model without a signature. Inference with mlflow.pyfunc.spark_udf() will not work unless the model's pyfunc representation accepts pandas DataFrames as inference inputs.\n",
      "\u001b[31m2025/04/16 04:41:26 WARNING mlflow.models.model: Model logged without a signature and input example. Please set `input_example` parameter when logging the model to auto infer the model signature.\u001b[0m\n"
     ]
    },
    {
     "name": "stdout",
     "output_type": "stream",
     "text": [
      "🏃 View run New Run at: http://127.0.0.1:5000/#/experiments/179427657121934942/runs/2606bca45bec40c9a5e1dc5cbaa7b67f\n",
      "🧪 View experiment at: http://127.0.0.1:5000/#/experiments/179427657121934942\n"
     ]
    }
   ],
   "source": [
    "mlflow.set_experiment(\"First Experiment with Linear Regression Keras Model\")\n",
    "mlflow.set_tracking_uri(\"http://127.0.0.1:5000\")\n",
    "# print(history.history)\n",
    "\n",
    "with mlflow.start_run(run_name='New Run'):\n",
    "    mlflow.log_metric(\"accuracy\", history.history['loss'][-1])\n",
    "    mlflow.log_param(\"learning_rate\", model.optimizer.learning_rate.numpy())\n",
    "    mlflow.log_param(\"epochs\", history.epoch[-1] + 1)\n",
    "    mlflow.log_param(\"batch_size\", history.params.get(\"batch_size\"))\n",
    "    \n",
    "    mlflow.tensorflow.log_model(model, \"Linear Regression Model\")"
   ]
  },
  {
   "cell_type": "code",
   "execution_count": 305,
   "id": "0f2465d7-8054-495a-b948-d945d785f108",
   "metadata": {},
   "outputs": [],
   "source": []
  },
  {
   "cell_type": "code",
   "execution_count": null,
   "id": "9b84721a-7f52-45c7-8a13-2de963c782f5",
   "metadata": {},
   "outputs": [],
   "source": []
  }
 ],
 "metadata": {
  "kernelspec": {
   "display_name": "Native ML ENV",
   "language": "python",
   "name": "machine_learning_env"
  },
  "language_info": {
   "codemirror_mode": {
    "name": "ipython",
    "version": 3
   },
   "file_extension": ".py",
   "mimetype": "text/x-python",
   "name": "python",
   "nbconvert_exporter": "python",
   "pygments_lexer": "ipython3",
   "version": "3.12.7"
  }
 },
 "nbformat": 4,
 "nbformat_minor": 5
}
